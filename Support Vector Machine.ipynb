{
 "cells": [
  {
   "cell_type": "code",
   "execution_count": 1,
   "metadata": {},
   "outputs": [],
   "source": [
    "import pandas as pd\n",
    "import nltk\n",
    "import re\n",
    "from nltk.tokenize import word_tokenize\n",
    "from nltk.corpus import stopwords\n",
    "\n",
    "# Load the Excel file into a pandas dataframe\n",
    "df = pd.read_excel('C:\\\\Users\\\\Amin\\\\Desktop\\\\Dataset.xlsx')\n",
    "\n",
    "# Define the function to remove non-letter characters, punctuation marks, and stop words\n",
    "def clean_text(text):\n",
    "\n",
    "    # Convert to lowercase\n",
    "    text = text.lower()\n",
    "\n",
    "    # Remove non-letter characters and punctuation\n",
    "    pattern = r'[^a-zA-Z\\s]'\n",
    "    text = re.sub(pattern, '', text)\n",
    "\n",
    "    # Tokenize the text\n",
    "    tokens = word_tokenize(text)\n",
    "\n",
    "    # Remove stop words\n",
    "    stop_words = set(stopwords.words('english'))\n",
    "    tokens = [token for token in tokens if token.lower() not in stop_words]\n",
    "\n",
    "    # Perform stemming on the tokens\n",
    "    porter = nltk.PorterStemmer()\n",
    "    tokens = [porter.stem(token) for token in tokens]\n",
    "\n",
    "    return tokens\n",
    "\n",
    "# Apply the function to the 'Text' column of the dataframe\n",
    "df['Text'] = df['Text'].apply(clean_text)\n",
    "\n",
    "# Save the cleaned dataframe to a CSV file\n",
    "df.to_excel('C:\\\\Users\\\\Amin\\\\Desktop\\\\Cleaned Dataset.xlsx', index=False)"
   ]
  },
  {
   "cell_type": "code",
   "execution_count": 2,
   "metadata": {},
   "outputs": [
    {
     "name": "stdout",
     "output_type": "stream",
     "text": [
      "Test Accuracy: 74.28%\n",
      "              precision    recall  f1-score   support\n",
      "\n",
      " non-suicide       0.70      0.87      0.77     23287\n",
      "     suicide       0.82      0.62      0.71     23128\n",
      "\n",
      "    accuracy                           0.74     46415\n",
      "   macro avg       0.76      0.74      0.74     46415\n",
      "weighted avg       0.76      0.74      0.74     46415\n",
      "\n"
     ]
    }
   ],
   "source": [
    "import pandas as pd\n",
    "import numpy as np\n",
    "import re\n",
    "from nltk.sentiment import SentimentIntensityAnalyzer\n",
    "from sklearn.feature_extraction.text import CountVectorizer\n",
    "from sklearn.model_selection import train_test_split\n",
    "from sklearn.preprocessing import StandardScaler\n",
    "from sklearn import svm\n",
    "from sklearn.metrics import accuracy_score, classification_report\n",
    "\n",
    "# Read and clean the dataset\n",
    "# Assuming your dataset is in a variable called 'df'\n",
    "\n",
    "# Extract emotion features using VADER sentiment analysis\n",
    "sia = SentimentIntensityAnalyzer()\n",
    "df['sentiment_scores'] = df['Text'].apply(lambda x: sia.polarity_scores(' '.join(x)))\n",
    "df['compound'] = df['sentiment_scores'].apply(lambda x: x['compound'])\n",
    "\n",
    "# Extract statistical features\n",
    "df['text_length'] = df['Text'].apply(len)\n",
    "df['average_word_length'] = df['Text'].apply(lambda x: np.mean([len(word) for word in x]) if x else 0)\n",
    "\n",
    "# Combine emotion and statistical features into a single DataFrame\n",
    "feature_df = df[['compound', 'text_length', 'average_word_length']]\n",
    "\n",
    "# Standardize features using StandardScaler\n",
    "scaler = StandardScaler()\n",
    "X = scaler.fit_transform(feature_df)\n",
    "\n",
    "# Get the target labels\n",
    "# Assuming your target label is in a column named 'Class'\n",
    "y = df['Class'].values\n",
    "\n",
    "# Split the dataset into training and testing sets\n",
    "X_train, X_test, y_train, y_test = train_test_split(X, y, test_size=0.2, random_state=42)\n",
    "\n",
    "# Train an SVM classifier using Scikit-learn\n",
    "clf = svm.SVC(kernel='linear')\n",
    "clf.fit(X_train, y_train)\n",
    "\n",
    "# Make predictions on the test set\n",
    "y_pred = clf.predict(X_test)\n",
    "\n",
    "# Evaluate the classifier\n",
    "accuracy = accuracy_score(y_test, y_pred)\n",
    "print(\"Test Accuracy: {:.2f}%\".format(accuracy * 100))\n",
    "print(classification_report(y_test, y_pred))\n"
   ]
  },
  {
   "cell_type": "code",
   "execution_count": 4,
   "metadata": {},
   "outputs": [
    {
     "data": {
      "text/plain": [
       "[' support_vector_machine_model.pkl']"
      ]
     },
     "execution_count": 4,
     "metadata": {},
     "output_type": "execute_result"
    }
   ],
   "source": [
    "import joblib\n",
    "\n",
    "joblib.dump(clf, ' support_vector_machine_model.pkl')"
   ]
  }
 ],
 "metadata": {
  "kernelspec": {
   "display_name": "Python 3",
   "language": "python",
   "name": "python3"
  },
  "language_info": {
   "codemirror_mode": {
    "name": "ipython",
    "version": 3
   },
   "file_extension": ".py",
   "mimetype": "text/x-python",
   "name": "python",
   "nbconvert_exporter": "python",
   "pygments_lexer": "ipython3",
   "version": "3.10.11"
  },
  "orig_nbformat": 4
 },
 "nbformat": 4,
 "nbformat_minor": 2
}
