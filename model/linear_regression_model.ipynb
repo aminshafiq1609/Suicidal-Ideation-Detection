{
 "cells": [
  {
   "attachments": {},
   "cell_type": "markdown",
   "metadata": {},
   "source": [
    "__Linear Regression Model__"
   ]
  },
  {
   "cell_type": "code",
   "execution_count": 2,
   "metadata": {},
   "outputs": [
    {
     "name": "stdout",
     "output_type": "stream",
     "text": [
      "Test Accuracy: 69.41%\n",
      "              precision    recall  f1-score   support\n",
      "\n",
      "           0       0.64      0.90      0.75     23287\n",
      "           1       0.83      0.48      0.61     23128\n",
      "\n",
      "    accuracy                           0.69     46415\n",
      "   macro avg       0.74      0.69      0.68     46415\n",
      "weighted avg       0.73      0.69      0.68     46415\n",
      "\n"
     ]
    }
   ],
   "source": [
    "# Import necessary modules\n",
    "import pandas as pd\n",
    "import numpy as np\n",
    "import re\n",
    "from nltk.sentiment import SentimentIntensityAnalyzer\n",
    "from sklearn.feature_extraction.text import CountVectorizer\n",
    "from sklearn.model_selection import train_test_split\n",
    "from sklearn.preprocessing import StandardScaler\n",
    "from sklearn.preprocessing import LabelEncoder\n",
    "from sklearn.linear_model import LinearRegression\n",
    "from sklearn.metrics import accuracy_score, classification_report\n",
    "\n",
    "# Load the dataset\n",
    "df = pd.read_excel('C:\\\\Users\\\\amins\\\\Desktop\\\\Cleaned Dataset.xlsx')\n",
    "X = df['Text']  # feature\n",
    "y = df['Class']  # target\n",
    "\n",
    "# Extract emotion features using VADER sentiment analysis\n",
    "sia = SentimentIntensityAnalyzer()\n",
    "df['sentiment_scores'] = df['Text'].apply(lambda x: sia.polarity_scores(' '.join(x)))\n",
    "df['compound'] = df['sentiment_scores'].apply(lambda x: x['compound'])\n",
    "\n",
    "# Extract statistical features\n",
    "df['text_length'] = df['Text'].apply(len)\n",
    "df['average_word_length'] = df['Text'].apply(lambda x: np.mean([len(word) for word in x]) if x else 0)\n",
    "\n",
    "# Combine emotion and statistical features into a single DataFrame\n",
    "feature_df = df[['compound', 'text_length', 'average_word_length']]\n",
    "\n",
    "# Standardize features using StandardScaler\n",
    "scaler = StandardScaler()\n",
    "X = scaler.fit_transform(feature_df)\n",
    "\n",
    "# Get the target labels\n",
    "# Assuming your target label is in a column named 'Class'\n",
    "y = df['Class'].values\n",
    "\n",
    "# Split the dataset into training and testing sets\n",
    "X_train, X_test, y_train, y_test = train_test_split(X, y, test_size=0.2, random_state=42)\n",
    "\n",
    "# Train a Linear Regression classifier using Scikit-learn\n",
    "clf = LinearRegression()\n",
    "\n",
    "# Assuming y is your target variable\n",
    "encoder = LabelEncoder()\n",
    "y_encoded = encoder.fit_transform(df['Class'])  # replace 'target' with your actual target column name\n",
    "\n",
    "# Now you can use y_encoded as your target for training the classifier\n",
    "X_train, X_test, y_train, y_test = train_test_split(X, y_encoded, test_size=0.2, random_state=42)\n",
    "clf.fit(X_train, y_train)\n",
    "\n",
    "# Make predictions on the test set\n",
    "y_pred = clf.predict(X_test)\n",
    "y_pred = [1 if prob > 0.5 else 0 for prob in y_pred]\n",
    "\n",
    "# Evaluate the classifier\n",
    "accuracy = accuracy_score(y_test, y_pred)\n",
    "print(\"Test Accuracy: {:.2f}%\".format(accuracy * 100))\n",
    "print(classification_report(y_test,y_pred))"
   ]
  },
  {
   "cell_type": "code",
   "execution_count": 3,
   "metadata": {},
   "outputs": [
    {
     "data": {
      "text/plain": [
       "['C://Users//amins//Desktop//linear_regression_model.pkl']"
      ]
     },
     "execution_count": 3,
     "metadata": {},
     "output_type": "execute_result"
    }
   ],
   "source": [
    "import joblib\n",
    "\n",
    "model = clf \n",
    "\n",
    "joblib.dump(model, 'C://Users//amins//Desktop//linear_regression_model.pkl')"
   ]
  }
 ],
 "metadata": {
  "kernelspec": {
   "display_name": ".venv",
   "language": "python",
   "name": "python3"
  },
  "language_info": {
   "codemirror_mode": {
    "name": "ipython",
    "version": 3
   },
   "file_extension": ".py",
   "mimetype": "text/x-python",
   "name": "python",
   "nbconvert_exporter": "python",
   "pygments_lexer": "ipython3",
   "version": "3.11.3"
  },
  "orig_nbformat": 4
 },
 "nbformat": 4,
 "nbformat_minor": 2
}
