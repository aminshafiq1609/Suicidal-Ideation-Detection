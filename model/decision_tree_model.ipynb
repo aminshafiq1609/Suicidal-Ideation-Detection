{
 "cells": [
  {
   "attachments": {},
   "cell_type": "markdown",
   "metadata": {},
   "source": [
    "__Decision Tree Model__"
   ]
  },
  {
   "cell_type": "code",
   "execution_count": 2,
   "metadata": {},
   "outputs": [
    {
     "name": "stdout",
     "output_type": "stream",
     "text": [
      "Test Accuracy: 74.05%\n",
      "              precision    recall  f1-score   support\n",
      "\n",
      " non-suicide       0.73      0.76      0.75     23287\n",
      "     suicide       0.75      0.72      0.74     23128\n",
      "\n",
      "    accuracy                           0.74     46415\n",
      "   macro avg       0.74      0.74      0.74     46415\n",
      "weighted avg       0.74      0.74      0.74     46415\n",
      "\n"
     ]
    }
   ],
   "source": [
    "import pandas as pd\n",
    "import numpy as np\n",
    "from nltk.sentiment import SentimentIntensityAnalyzer\n",
    "from sklearn.feature_extraction.text import CountVectorizer\n",
    "from sklearn.model_selection import train_test_split\n",
    "from sklearn.preprocessing import StandardScaler\n",
    "from sklearn.tree import DecisionTreeClassifier\n",
    "from sklearn.metrics import accuracy_score, classification_report\n",
    "\n",
    "# Read and clean the dataset\n",
    "df = pd.read_excel('C://Users//amins//Desktop//Cleaned Dataset.xlsx')\n",
    "\n",
    "\n",
    "# Extract emotion features using VADER sentiment analysis\n",
    "sia = SentimentIntensityAnalyzer()\n",
    "df['sentiment_scores'] = df['Text'].apply(lambda x: sia.polarity_scores(' '.join(x)))\n",
    "df['compound'] = df['sentiment_scores'].apply(lambda x: x['compound'])\n",
    "\n",
    "# Extract statistical features\n",
    "df['text_length'] = df['Text'].apply(len)\n",
    "df['average_word_length'] = df['Text'].apply(lambda x: np.mean([len(word) for word in x]) if x else 0)\n",
    "\n",
    "# Combine emotion and statistical features into a single DataFrame\n",
    "feature_df = df[['compound', 'text_length', 'average_word_length']]\n",
    "\n",
    "# Standardize features using StandardScaler\n",
    "scaler = StandardScaler()\n",
    "X = scaler.fit_transform(feature_df)\n",
    "\n",
    "# Get the target labels\n",
    "# Assuming your target label is in a column named 'Class'\n",
    "y = df['Class'].values\n",
    "\n",
    "# Split the dataset into training and testing sets\n",
    "X_train, X_test, y_train, y_test = train_test_split(X, y, test_size=0.2, random_state=42)\n",
    "\n",
    "# Train an Decision Tree classifier using Scikit-learn\n",
    "clf = DecisionTreeClassifier()\n",
    "clf.fit(X_train, y_train)\n",
    "\n",
    "# Make predictions on the test set\n",
    "y_pred = clf.predict(X_test)\n",
    "\n",
    "# Evaluate the classifier\n",
    "accuracy = accuracy_score(y_test, y_pred)\n",
    "print(\"Test Accuracy: {:.2f}%\".format(accuracy * 100))\n",
    "print(classification_report(y_test, y_pred))"
   ]
  },
  {
   "cell_type": "code",
   "execution_count": 3,
   "metadata": {},
   "outputs": [
    {
     "data": {
      "text/plain": [
       "['C://Users//amins//Desktop//decision_tree_model.pkl']"
      ]
     },
     "execution_count": 3,
     "metadata": {},
     "output_type": "execute_result"
    }
   ],
   "source": [
    "import joblib\n",
    "\n",
    "model = clf \n",
    "\n",
    "joblib.dump(model, 'C://Users//amins//Desktop//decision_tree_model.pkl')"
   ]
  }
 ],
 "metadata": {
  "kernelspec": {
   "display_name": ".venv",
   "language": "python",
   "name": "python3"
  },
  "language_info": {
   "codemirror_mode": {
    "name": "ipython",
    "version": 3
   },
   "file_extension": ".py",
   "mimetype": "text/x-python",
   "name": "python",
   "nbconvert_exporter": "python",
   "pygments_lexer": "ipython3",
   "version": "3.11.3"
  },
  "orig_nbformat": 4
 },
 "nbformat": 4,
 "nbformat_minor": 2
}
